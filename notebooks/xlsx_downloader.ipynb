{
 "cells": [
  {
   "cell_type": "code",
   "execution_count": 1,
   "metadata": {
    "comet_cell_id": "ff5bcc9ca2cb5"
   },
   "outputs": [],
   "source": [
    "import os\n",
    "import time\n",
    "import json\n",
    "import requests\n",
    "from openpyxl import load_workbook\n",
    "import pandas as pd"
   ]
  },
  {
   "cell_type": "code",
   "execution_count": 2,
   "metadata": {
    "comet_cell_id": "3b4e104c4a025"
   },
   "outputs": [],
   "source": [
    "# http request authentication\n",
    "with open('../../gitToken.txt', 'r') as f:\n",
    "    token = \"token \" + f.readline()\n",
    "f.close()\n",
    "header = {'Authorization': token}\n",
    "\n",
    "base_url = 'https://api.github.com/search/code?q=extension:xlsx'\n",
    "page_url = '&per_page=100'\n",
    "\n",
    "def search_xlsx_on_github(min_file_size, max_file_size, download_path, debug=False):\n",
    "    search_url = base_url + '+size:' + str(min_file_size) + '..' + str(max_file_size) + page_url\n",
    "    print(search_url)\n",
    "    \n",
    "    # query GitHub\n",
    "    req = get_github_request(search_url, header)\n",
    "    json = req.json()\n",
    "    head = req.headers\n",
    "    if debug:\n",
    "        print('response: \\n', req)\n",
    "        print('headers: \\n', head)\n",
    "        print('JSON: \\n', json)\n",
    "        #print('response content: \\n', r.content)\n",
    "        print()\n",
    "        print()\n",
    "    \n",
    "    total_seen, total_downloaded = download_xlsx(download_path, json, debug)\n",
    "    \n",
    "    while 'next' in req.links:\n",
    "        next_url = req.links['next']['url']\n",
    "        req = get_github_request(next_url, header)\n",
    "        json = req.json()\n",
    "        head = req.headers\n",
    "        \n",
    "        a, b = download_xlsx(download_path, json, debug)\n",
    "        total_seen += a\n",
    "        total_downloaded += b\n",
    "    print('total seen:', total_seen + '\\ntotal downloaded:', total_downloaded)\n",
    "        \n",
    "def get_github_request(url, header):\n",
    "    r = requests.get(url, headers=header)\n",
    "    if r.status_code == 403:\n",
    "        wait = 0\n",
    "        try:\n",
    "            wait = r.headers['Retry-After']\n",
    "        except KeyError:\n",
    "            wait = 30\n",
    "        print(\"%s: Hit rate limit. Retry after %s seconds\" % (r.headers['Date'], wait))\n",
    "        time.sleep(int(wait) + 1)\n",
    "        return get_github_request(url, header)\n",
    "    return r\n",
    "\n",
    "def download_xlsx(download_path, json, debug):\n",
    "    if debug:\n",
    "        print(json)\n",
    "    total_seen = 0\n",
    "    total_downloaded = 0\n",
    "    for item in json['items']:\n",
    "        file_url = item['html_url']\n",
    "        file_url = item['html_url']\n",
    "        filename = item['name']\n",
    "        req = get_github_request(file_url + '?raw=true', header)\n",
    "        if not os.path.exists(download_path):\n",
    "            os.makedirs(download_path)\n",
    "        total_seen += 1\n",
    "        with open(download_path + filename, 'wb')as f:\n",
    "            f.write(req.content)\n",
    "        f.close()\n",
    "        if check_xlsx_for_formulae(download_path + filename):\n",
    "            print('downloaded ' + filename)\n",
    "            total_downloaded += 1\n",
    "        else:\n",
    "            print('ignored ' + filename)\n",
    "            os.remove(download_path + filename)\n",
    "    return total_seen, total_downloaded\n",
    "\n",
    "\n",
    "cutoff = 0.3\n",
    "def check_xlsx_for_formulae(file_path):\n",
    "    try:\n",
    "        wb = load_workbook(filename = file_path)\n",
    "        sheet_names = wb.sheetnames\n",
    "        num_cells = 1\n",
    "        num_formulas = 0\n",
    "        for sheet in sheet_names:\n",
    "            ws = wb[sheet]\n",
    "            print(wb)\n",
    "            for row in ws.iter_rows():\n",
    "                for cell in row:\n",
    "                    if type(cell.value) is not None:\n",
    "                        num_cells += 1\n",
    "                    if len(str(cell.value)) > 0 and str(cell.value)[0] == '=':\n",
    "                        num_formulas += 1\n",
    "                    if num_formulas >= 10000:\n",
    "                        wb.close()\n",
    "                        return True\n",
    "        wb.close()\n",
    "        return num_formulas / num_cells > cutoff\n",
    "    except:\n",
    "        return False\n",
    "    \n"
   ]
  },
  {
   "cell_type": "code",
   "execution_count": null,
   "metadata": {
    "comet_cell_id": "b301e65bdecea",
    "scrolled": false
   },
   "outputs": [
    {
     "name": "stdout",
     "output_type": "stream",
     "text": [
      "https://api.github.com/search/code?q=extension:xlsx+size:100000000..100000000000&per_page=100\n",
      "<openpyxl.workbook.workbook.Workbook object at 0x000001A3E0CADBE0>\n",
      "<openpyxl.workbook.workbook.Workbook object at 0x000001A3E0CADBE0>\n",
      "<openpyxl.workbook.workbook.Workbook object at 0x000001A3E0CADBE0>\n",
      "<openpyxl.workbook.workbook.Workbook object at 0x000001A3E0CADBE0>\n",
      "ignored AwsArquitectNotesCloudGuru.xlsx\n",
      "<openpyxl.workbook.workbook.Workbook object at 0x000001A3E0CAD8B0>\n",
      "ignored Comments.xlsx\n",
      "<openpyxl.workbook.workbook.Workbook object at 0x000001A3DE072910>\n",
      "ignored DATA_RELEVANT.xlsx\n",
      "<openpyxl.workbook.workbook.Workbook object at 0x000001A3EE074C10>\n",
      "<openpyxl.workbook.workbook.Workbook object at 0x000001A3EE074C10>\n",
      "downloaded Technosylva-sizes-2021WMP_ClassB_Action-PGE-15_Atch01-mbar.xlsx\n",
      "<openpyxl.workbook.workbook.Workbook object at 0x000001A3DE072250>\n",
      "downloaded data_test.xlsx\n",
      "<openpyxl.workbook.workbook.Workbook object at 0x000001A58DF42FA0>\n",
      "ignored Master Policy - Viva Air.xlsx\n"
     ]
    },
    {
     "name": "stderr",
     "output_type": "stream",
     "text": [
      "C:\\Users\\jonat\\anaconda3\\lib\\site-packages\\openpyxl\\worksheet\\_reader.py:312: UserWarning: Unknown extension is not supported and will be removed\n",
      "  warn(msg)\n"
     ]
    },
    {
     "name": "stdout",
     "output_type": "stream",
     "text": [
      "<openpyxl.workbook.workbook.Workbook object at 0x000001A58C16D1F0>\n",
      "ignored blackjackFinalData.xlsx\n",
      "<openpyxl.workbook.workbook.Workbook object at 0x000001A79F690E50>\n",
      "ignored ESI_2020.xlsx\n"
     ]
    },
    {
     "name": "stderr",
     "output_type": "stream",
     "text": [
      "C:\\Users\\jonat\\anaconda3\\lib\\site-packages\\openpyxl\\worksheet\\_reader.py:312: UserWarning: Data Validation extension is not supported and will be removed\n",
      "  warn(msg)\n"
     ]
    }
   ],
   "source": [
    "download_path = \"../../xlsxDownloads/100000kb+/\"\n",
    "search_xlsx_on_github(100000000, 100000000000, download_path, debug=False)"
   ]
  },
  {
   "cell_type": "code",
   "execution_count": null,
   "metadata": {
    "comet_cell_id": "48907cf5e4618",
    "scrolled": false
   },
   "outputs": [],
   "source": [
    "download_path = \"../../xlsxDownloads/10000-100000kb/\"\n",
    "search_xlsx_on_github(10000000, 99999999, download_path, debug=False)"
   ]
  },
  {
   "cell_type": "code",
   "execution_count": null,
   "metadata": {
    "scrolled": false
   },
   "outputs": [],
   "source": [
    "download_path = \"../../xlsxDownloads/1000-10000kb/\"\n",
    "search_xlsx_on_github(1000000, 9999999, download_path, debug=True)"
   ]
  },
  {
   "cell_type": "code",
   "execution_count": null,
   "metadata": {
    "scrolled": false
   },
   "outputs": [],
   "source": [
    "download_path = \"../../xlsxDownloads/500-1000kb/\"\n",
    "search_xlsx_on_github(500000, 999999, download_path, debug=False)"
   ]
  },
  {
   "cell_type": "code",
   "execution_count": null,
   "metadata": {},
   "outputs": [],
   "source": []
  },
  {
   "cell_type": "code",
   "execution_count": null,
   "metadata": {},
   "outputs": [],
   "source": []
  }
 ],
 "metadata": {
  "comet_paths": [
   [
    "5e1a4093/Untitled.ipynb",
    1499791964722
   ],
   [
    "5e1a4093/scraping_jupyter_notebooks_github.ipynb",
    1499792516726
   ],
   [
    "b47baa7f/0_github_api_search.ipynb",
    1500065289081
   ],
   [
    "b47baa7f/0_search_jupyter_nbs_github.ipynb",
    1501004088942
   ],
   [
    "d1dd24ab/0_search_jupyter_nbs_github.ipynb",
    1501095245008
   ],
   [
    "d1dd24ab/0_nb_metadata_download.ipynb",
    1501098395645
   ]
  ],
  "comet_tracking": true,
  "kernelspec": {
   "display_name": "Python 3",
   "language": "python",
   "name": "python3"
  },
  "language_info": {
   "codemirror_mode": {
    "name": "ipython",
    "version": 3
   },
   "file_extension": ".py",
   "mimetype": "text/x-python",
   "name": "python",
   "nbconvert_exporter": "python",
   "pygments_lexer": "ipython3",
   "version": "3.8.8"
  }
 },
 "nbformat": 4,
 "nbformat_minor": 2
}
